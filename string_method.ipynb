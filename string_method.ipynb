{
 "cells": [
  {
   "cell_type": "markdown",
   "metadata": {},
   "source": [
    "##### 1. capitalize() method := convert the first character to upper case"
   ]
  },
  {
   "cell_type": "code",
   "execution_count": 1,
   "metadata": {},
   "outputs": [
    {
     "name": "stdout",
     "output_type": "stream",
     "text": [
      "capitalize: Monisha umate\n"
     ]
    }
   ],
   "source": [
    "str1 = \"monisha umate\"\n",
    "print(\"capitalize:\", str1.capitalize())"
   ]
  },
  {
   "cell_type": "code",
   "execution_count": 3,
   "metadata": {},
   "outputs": [
    {
     "name": "stdout",
     "output_type": "stream",
     "text": [
      "capitalize: Python programming\n"
     ]
    }
   ],
   "source": [
    "str2 = \"python programming\"\n",
    "print(\"capitalize:\", str2.capitalize())"
   ]
  },
  {
   "cell_type": "markdown",
   "metadata": {},
   "source": [
    "#### 2.lower case() := convert all charater into lower case"
   ]
  },
  {
   "cell_type": "code",
   "execution_count": 4,
   "metadata": {},
   "outputs": [
    {
     "name": "stdout",
     "output_type": "stream",
     "text": [
      "lower: monisha umate\n"
     ]
    }
   ],
   "source": [
    "str1 = \"MOnisha umaTE\"\n",
    "print(\"lower:\", str1.lower())"
   ]
  },
  {
   "cell_type": "code",
   "execution_count": 5,
   "metadata": {},
   "outputs": [
    {
     "name": "stdout",
     "output_type": "stream",
     "text": [
      "lower: python programming\n"
     ]
    }
   ],
   "source": [
    "str2 = \"PythOn ProGRAMMING\"\n",
    "print(\"lower:\", str2.lower())"
   ]
  },
  {
   "cell_type": "markdown",
   "metadata": {},
   "source": [
    "#### 3.title() :=Converts the first character of each word to uppercase."
   ]
  },
  {
   "cell_type": "code",
   "execution_count": 6,
   "metadata": {},
   "outputs": [
    {
     "name": "stdout",
     "output_type": "stream",
     "text": [
      "title: Hasin Dilruba\n"
     ]
    }
   ],
   "source": [
    "str1 = \"hasin dilruba\"\n",
    "print(\"title:\" , str1.title())"
   ]
  },
  {
   "cell_type": "code",
   "execution_count": 7,
   "metadata": {},
   "outputs": [
    {
     "name": "stdout",
     "output_type": "stream",
     "text": [
      "title: Sanam Teri Kasam\n"
     ]
    }
   ],
   "source": [
    "str2 = \"sanam teri kasam\"\n",
    "print(\"title:\" , str2.title())"
   ]
  },
  {
   "cell_type": "markdown",
   "metadata": {},
   "source": [
    "#### 5. str.endswith(suffix): Returns True if the string ends with the specified suffix, False otherwise.\n",
    "\n"
   ]
  },
  {
   "cell_type": "code",
   "execution_count": 10,
   "metadata": {},
   "outputs": [
    {
     "name": "stdout",
     "output_type": "stream",
     "text": [
      "True\n"
     ]
    }
   ],
   "source": [
    "str1 = \"Hello World\"\n",
    "print(str1.endswith(\"World\"))"
   ]
  },
  {
   "cell_type": "code",
   "execution_count": 11,
   "metadata": {},
   "outputs": [
    {
     "name": "stdout",
     "output_type": "stream",
     "text": [
      "False\n"
     ]
    }
   ],
   "source": [
    "str2 = \"Haa meri jaan\"\n",
    "print(str2.endswith(\"meri\"))"
   ]
  },
  {
   "cell_type": "markdown",
   "metadata": {},
   "source": [
    "#### 6. replace(old, new) := replace occurance of a substring with another substring"
   ]
  },
  {
   "cell_type": "code",
   "execution_count": 21,
   "metadata": {},
   "outputs": [
    {
     "name": "stdout",
     "output_type": "stream",
     "text": [
      "Replace: hello Python\n"
     ]
    }
   ],
   "source": [
    "str1 = \"hello world\"\n",
    "print(\"Replace:\", str1.replace(\"world\", \"Python\"))"
   ]
  },
  {
   "cell_type": "code",
   "execution_count": 20,
   "metadata": {},
   "outputs": [
    {
     "name": "stdout",
     "output_type": "stream",
     "text": [
      "replace: bro code\n"
     ]
    }
   ],
   "source": [
    "str2 = \"bahen code\"\n",
    "print(\"replace:\", str2.replace(\"bahen\", \"bro\"))"
   ]
  },
  {
   "cell_type": "markdown",
   "metadata": {},
   "source": [
    "#### 7. center(width,[fillchar]) :=center the strin within a width, padded by optional fillchar"
   ]
  },
  {
   "cell_type": "code",
   "execution_count": 27,
   "metadata": {},
   "outputs": [
    {
     "name": "stdout",
     "output_type": "stream",
     "text": [
      "center 10 : --hello---\n"
     ]
    }
   ],
   "source": [
    "str1 = \"hello\"\n",
    "print(\"center 10 :\", str1.center(10, '-'))"
   ]
  },
  {
   "cell_type": "markdown",
   "metadata": {},
   "source": [
    "#### 8. find(substring):= return the index of the first occurence of the substring"
   ]
  },
  {
   "cell_type": "code",
   "execution_count": 31,
   "metadata": {},
   "outputs": [
    {
     "name": "stdout",
     "output_type": "stream",
     "text": [
      "find 'python': 0\n"
     ]
    }
   ],
   "source": [
    "str1 = \"python programming\"\n",
    "print(\"find 'python':\", str1.find(\"python\"))"
   ]
  },
  {
   "cell_type": "code",
   "execution_count": 32,
   "metadata": {},
   "outputs": [
    {
     "name": "stdout",
     "output_type": "stream",
     "text": [
      "find 'umate': 5\n"
     ]
    }
   ],
   "source": [
    "str2 = \"moni umate\"\n",
    "print(\"find 'umate':\",str2.find(\"umate\"))"
   ]
  },
  {
   "cell_type": "markdown",
   "metadata": {},
   "source": [
    "#### 9.strip():This Method removes any leading and trailing whitespace from a string."
   ]
  },
  {
   "cell_type": "code",
   "execution_count": 34,
   "metadata": {},
   "outputs": [
    {
     "name": "stdout",
     "output_type": "stream",
     "text": [
      "String Method\n"
     ]
    }
   ],
   "source": [
    "str1  =\"    String Method   \"\n",
    "print(str1.strip())"
   ]
  },
  {
   "cell_type": "code",
   "execution_count": 36,
   "metadata": {},
   "outputs": [
    {
     "name": "stdout",
     "output_type": "stream",
     "text": [
      "monisha\n"
     ]
    }
   ],
   "source": [
    "str1  =\"     monisha     \"\n",
    "print(str1.strip())"
   ]
  },
  {
   "cell_type": "markdown",
   "metadata": {},
   "source": [
    "#### 10. join(iterable):this method joins an iterable of string into a single string with the string as the separator "
   ]
  },
  {
   "cell_type": "code",
   "execution_count": 37,
   "metadata": {},
   "outputs": [
    {
     "name": "stdout",
     "output_type": "stream",
     "text": [
      "python conceived by Guido van Rossum\n"
     ]
    }
   ],
   "source": [
    "str1=[\"python conceived \"  , \"by \" ,\"Guido van Rossum\"]\n",
    "#print(words.join(\"words\"))\n",
    "print(\"\".join(str1))\n"
   ]
  }
 ],
 "metadata": {
  "kernelspec": {
   "display_name": "base",
   "language": "python",
   "name": "python3"
  },
  "language_info": {
   "codemirror_mode": {
    "name": "ipython",
    "version": 3
   },
   "file_extension": ".py",
   "mimetype": "text/x-python",
   "name": "python",
   "nbconvert_exporter": "python",
   "pygments_lexer": "ipython3",
   "version": "3.12.4"
  }
 },
 "nbformat": 4,
 "nbformat_minor": 2
}
